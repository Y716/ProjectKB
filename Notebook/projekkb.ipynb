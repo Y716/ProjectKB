{
 "cells": [
  {
   "cell_type": "code",
   "execution_count": 335,
   "metadata": {},
   "outputs": [],
   "source": [
    "import numpy as np \n",
    "import pandas as pd\n",
    "import matplotlib.pyplot as plt\n",
    "import seaborn as sns\n",
    "import plotly.graph_objects as go\n",
    "\n",
    "\n",
    "from wordcloud import WordCloud\n",
    "from sklearn.preprocessing import StandardScaler\n",
    "from sklearn.manifold import TSNE"
   ]
  },
  {
   "cell_type": "code",
   "execution_count": 336,
   "metadata": {},
   "outputs": [],
   "source": [
    "# Import data dari Folder\n",
    "dat = pd.read_csv('../data/Raw/data.csv')"
   ]
  },
  {
   "cell_type": "code",
   "execution_count": 337,
   "metadata": {},
   "outputs": [],
   "source": [
    "# Mengkategorikan feature per ciri-cirinya\n",
    "song_info_features = ['name', 'artists', 'id', 'release_date', 'year', 'popularity']\n",
    "song_features_normalized = ['valence', 'acousticness', 'danceability', 'energy', 'instrumentalness', 'liveness', 'speechiness']\n",
    "song_features_not_normalized = ['duration_ms', 'key', 'loudness', 'mode', 'tempo']"
   ]
  },
  {
   "cell_type": "markdown",
   "metadata": {},
   "source": [
    "# Recommendation System"
   ]
  },
  {
   "cell_type": "code",
   "execution_count": 338,
   "metadata": {},
   "outputs": [],
   "source": [
    "# Menghapus data sebelum 2018\n",
    "dat = dat.drop(dat[(dat['year'] < 2018)].index)"
   ]
  },
  {
   "cell_type": "code",
   "execution_count": 339,
   "metadata": {},
   "outputs": [],
   "source": [
    "# Pembuatan Sistem Rekomendasi Lagu\n",
    "\n",
    "# Mendefinisikan feature yang dipakai untuk dibandingkan\n",
    "features = song_features_normalized + song_features_not_normalized + ['popularity']\n",
    "\n",
    "# Membuat dataframe baru, Menstandardisasi feature yang ada\n",
    "scaler = StandardScaler()\n",
    "feature_for_recommendation = scaler.fit_transform(dat[features])\n",
    "\n",
    "# Menduplikat data yang ada ke dalam dataframe baru\n",
    "dat_recommendation = dat.copy()\n",
    "dat_recommendation[features] = feature_for_recommendation\n",
    "\n",
    "# Menjadikan kapital untuk seluruh judul\n",
    "dat_recommendation['name'] = dat_recommendation['name'].str.upper()\n",
    "\n",
    "# Save dataframe baru\n",
    "dat_recommendation.to_csv('dat_for_recommender.csv', index=False)"
   ]
  },
  {
   "cell_type": "code",
   "execution_count": 340,
   "metadata": {},
   "outputs": [],
   "source": [
    "from sklearn.metrics.pairwise import cosine_similarity, euclidean_distances\n",
    "\n",
    "# Fungsi untuk mendapatkan nilai feature vector dari lagu yang diberikan\n",
    "def get_feature_vector(song_name, year):\n",
    "# def get_feature_vector(song_name, artist):\n",
    "    dat_song = dat_recommendation.query('name == @song_name & year == @year')\n",
    "    # dat_song = dat_recommendation.query('name == @song_name & artists == @artist')\n",
    "    song_repeated = 0\n",
    "    if dat_song.shape[0] == 0:\n",
    "        raise Exception('The song does not exist in the dataset! \\n Use search function first if you are not sure')\n",
    "    if dat_song.shape[0] > 1:\n",
    "        song_repeated = dat_song.shape[0]\n",
    "        print(f'Warning: Multiple ({song_repeated}) songs with the same name and artist, the first one is selected!')\n",
    "        dat_song = dat_song.head(1)\n",
    "    feature_vector = dat_song[features].values\n",
    "    return feature_vector, song_repeated\n",
    "\n",
    "names = []\n",
    "\n",
    "# Fungsi untuk mendapatkan lagunya mirip\n",
    "def get_similar_songs(song_name, year, top_n=10, plot_type='wordcloud'):\n",
    "    feature_vector, song_repeated = get_feature_vector(song_name, year)\n",
    "\n",
    "    # menghitung nilai cosime similarity\n",
    "    similarities = cosine_similarity(dat_recommendation[features].values, feature_vector).flatten()\n",
    "\n",
    "    # Mendapatkan index dari top_n lagu yang mirip\n",
    "    if song_repeated == 0:\n",
    "        related_song_indices = similarities.argsort()[-(top_n+1):][::-1][1:]\n",
    "    else:\n",
    "        related_song_indices = similarities.argsort()[-(top_n+1+song_repeated):][::-1][1+song_repeated:]\n",
    "            \n",
    "    # Mengambil judul lagu, nama artis dan lagu dari lagu yang paling mirip\n",
    "    similar_songs = dat_recommendation.iloc[related_song_indices][['name', 'artists', 'year']]\n",
    "    \n",
    "    names.clear()\n",
    "    names.append(song_name)\n",
    "    names.extend(similar_songs['name'].head().tolist())\n",
    "    \n",
    "    if plot_type == 'wordcloud':\n",
    "        # make a word cloud of the most similar songs and year, use the simalirity score as the size of the words\n",
    "        similar_songs['name+year'] = similar_songs['name'] + ' (' + similar_songs['year'].astype(str) + ')'\n",
    "        # create a dictionary of song and their similarity\n",
    "        song_similarity = dict(zip(similar_songs['name+year'], similarities[related_song_indices]))\n",
    "        # sort the dictionary by value\n",
    "        song_similarity = sorted(song_similarity.items(), key=lambda x: x[1], reverse=True)\n",
    "        # # create a mask for the word cloud\n",
    "        # mask = np.array(Image.open(\"spotify-logo.png\"))\n",
    "        # create a word cloud\n",
    "        wordcloud = WordCloud(width=1600, height=800, max_words=50, \n",
    "                            background_color='white', colormap='Set2').generate_from_frequencies(dict(song_similarity))\n",
    "        plt.figure(figsize=(12,10))\n",
    "        plt.imshow(wordcloud, interpolation='bilinear')\n",
    "        plt.axis('off')\n",
    "        plt.title(f'{top_n} most similar songs to: {song_name} ({year})', fontsize=20)\n",
    "        plt.tight_layout(pad=0)\n",
    "        plt.show()\n",
    "    \n",
    "    elif plot_type == 'bar':\n",
    "        # plot the text of the most similar songs and year in order, like a stacked bar chart\n",
    "        similar_songs['name+year'] = similar_songs['name'] + ' (' + similar_songs['year'].astype(str) + ')'\n",
    "        # create a dictionary of song and their similarity\n",
    "        song_similarity = dict(zip(similar_songs['name+year'], similarities[related_song_indices]))\n",
    "        # sort the dictionary by value\n",
    "        song_similarity = sorted(song_similarity.items(), key=lambda x: x[1], reverse=True)\n",
    "        # plot the text of the most similar songs and year in order, like a stacked bar chart\n",
    "        plt.figure(figsize=(12,10))\n",
    "        plt.barh(range(len(song_similarity)), [val[1] for val in song_similarity], \n",
    "                 align='center', color=sns.color_palette('pastel', len(song_similarity)))\n",
    "        plt.yticks(range(len(song_similarity)), [val[0] for val in song_similarity])\n",
    "        plt.gca().invert_yaxis()\n",
    "        plt.title(f'{top_n} most similar songs to: {song_name} ({year})', fontsize=20)\n",
    "        min_similarity = min(similarities[related_song_indices])\n",
    "        max_similarity = max(similarities[related_song_indices])\n",
    "        # add song name on the top of each bar\n",
    "        for i, v in enumerate([val[0] for val in song_similarity]):\n",
    "            plt.text(min_similarity*0.955, i, v, color='black', fontsize=12)\n",
    "        # plt.xlabel('Similarity', fontsize=15)\n",
    "        # plt.ylabel('Song', fontsize=15)\n",
    "        plt.xlim(min_similarity*0.95, max_similarity)\n",
    "        # not show figure frame and ticks\n",
    "        plt.box(False)\n",
    "        plt.tick_params(axis='both', which='both', bottom=False, top=False, labelbottom=False, left=False, right=False, labelleft=False)\n",
    "        \n",
    "        plt.show()\n",
    "    # return similar_songs\n",
    "\n",
    "\n",
    "# Membuat fungsi pencarian lagu dan mengembalikan informasi mengenainya\n",
    "def search_song(song_name):\n",
    "    dat_song = dat.query('name == @song_name')\n",
    "    if dat_song.shape[0] == 0:\n",
    "        raise Exception('The song does not exist in the dataset!')\n",
    "    print(f\"Great! This song is in the dataset: {dat_song[['name', 'artists', 'release_date']].to_numpy()}\")\n",
    "    # return dat_song[['name', 'artists', 'year', 'release_date']]"
   ]
  },
  {
   "cell_type": "code",
   "execution_count": 341,
   "metadata": {},
   "outputs": [
    {
     "data": {
      "image/png": "[encoded data removed]",
      "text/plain": [
       "<Figure size 1200x1000 with 1 Axes>"
      ]
     },
     "metadata": {},
     "output_type": "display_data"
    }
   ],
   "source": [
    "#Contoh Bar plot\n",
    "get_similar_songs('DESPACITO', 2019, top_n=10, plot_type='bar')\n"
   ]
  },
  {
   "cell_type": "code",
   "execution_count": 348,
   "metadata": {},
   "outputs": [
    {
     "data": {
      "application/vnd.plotly.v1+json": {
       "config": {
        "plotlyServerURL": "https://plot.ly"
       },
       "data": [
        {
         "fill": "toself",
         "name": "DESPACITO",
         "r": [
          0.8390000000000001,
          0.198,
          0.655,
          0.797,
          0,
          0.067,
          0.153,
          0.8390000000000001
         ],
         "theta": [
          "valence",
          "acousticness",
          "danceability",
          "energy",
          "instrumentalness",
          "liveness",
          "speechiness",
          "valence"
         ],
         "type": "scatterpolar"
        },
        {
         "fill": "toself",
         "name": "DESPACITO - REMIX",
         "r": [
          0.857,
          0.226,
          0.649,
          0.7979999999999999,
          0,
          0.0711,
          0.178,
          0.857
         ],
         "theta": [
          "valence",
          "acousticness",
          "danceability",
          "energy",
          "instrumentalness",
          "liveness",
          "speechiness",
          "valence"
         ],
         "type": "scatterpolar"
        },
        {
         "fill": "toself",
         "name": "LOST IN YESTERDAY",
         "r": [
          0.7490000000000001,
          0.0295,
          0.569,
          0.84,
          0.000118,
          0.0995,
          0.118,
          0.7490000000000001
         ],
         "theta": [
          "valence",
          "acousticness",
          "danceability",
          "energy",
          "instrumentalness",
          "liveness",
          "speechiness",
          "valence"
         ],
         "type": "scatterpolar"
        },
        {
         "fill": "toself",
         "name": "OTRO TRAGO - REMIX",
         "r": [
          0.763,
          0.0711,
          0.725,
          0.79,
          0.00000114,
          0.0602,
          0.197,
          0.763
         ],
         "theta": [
          "valence",
          "acousticness",
          "danceability",
          "energy",
          "instrumentalness",
          "liveness",
          "speechiness",
          "valence"
         ],
         "type": "scatterpolar"
        },
        {
         "fill": "toself",
         "name": "KEANU REEVES",
         "r": [
          0.799,
          0.0557,
          0.7120000000000001,
          0.8909999999999999,
          0,
          0.134,
          0.24,
          0.799
         ],
         "theta": [
          "valence",
          "acousticness",
          "danceability",
          "energy",
          "instrumentalness",
          "liveness",
          "speechiness",
          "valence"
         ],
         "type": "scatterpolar"
        },
        {
         "fill": "toself",
         "name": "SI ES POSIBLE",
         "r": [
          0.883,
          0.279,
          0.583,
          0.8190000000000001,
          0,
          0.134,
          0.0603,
          0.883
         ],
         "theta": [
          "valence",
          "acousticness",
          "danceability",
          "energy",
          "instrumentalness",
          "liveness",
          "speechiness",
          "valence"
         ],
         "type": "scatterpolar"
        }
       ],
       "layout": {
        "polar": {
         "radialaxis": {
          "range": [
           0,
           1
          ],
          "visible": true
         }
        },
        "showlegend": true,
        "template": {
         "data": {
          "bar": [
           {
            "error_x": {
             "color": "#f2f5fa"
            },
            "error_y": {
             "color": "#f2f5fa"
            },
            "marker": {
             "line": {
              "color": "rgb(17,17,17)",
              "width": 0.5
             },
             "pattern": {
              "fillmode": "overlay",
              "size": 10,
              "solidity": 0.2
             }
            },
            "type": "bar"
           }
          ],
          "barpolar": [
           {
            "marker": {
             "line": {
              "color": "rgb(17,17,17)",
              "width": 0.5
             },
             "pattern": {
              "fillmode": "overlay",
              "size": 10,
              "solidity": 0.2
             }
            },
            "type": "barpolar"
           }
          ],
          "carpet": [
           {
            "aaxis": {
             "endlinecolor": "#A2B1C6",
             "gridcolor": "#506784",
             "linecolor": "#506784",
             "minorgridcolor": "#506784",
             "startlinecolor": "#A2B1C6"
            },
            "baxis": {
             "endlinecolor": "#A2B1C6",
             "gridcolor": "#506784",
             "linecolor": "#506784",
             "minorgridcolor": "#506784",
             "startlinecolor": "#A2B1C6"
            },
            "type": "carpet"
           }
          ],
          "choropleth": [
           {
            "colorbar": {
             "outlinewidth": 0,
             "ticks": ""
            },
            "type": "choropleth"
           }
          ],
          "contour": [
           {
            "colorbar": {
             "outlinewidth": 0,
             "ticks": ""
            },
            "colorscale": [
             [
              0,
              "#0d0887"
             ],
             [
              0.1111111111111111,
              "#46039f"
             ],
             [
              0.2222222222222222,
              "#7201a8"
             ],
             [
              0.3333333333333333,
              "#9c179e"
             ],
             [
              0.4444444444444444,
              "#bd3786"
             ],
             [
              0.5555555555555556,
              "#d8576b"
             ],
             [
              0.6666666666666666,
              "#ed7953"
             ],
             [
              0.7777777777777778,
              "#fb9f3a"
             ],
             [
              0.8888888888888888,
              "#fdca26"
             ],
             [
              1,
              "#f0f921"
             ]
            ],
            "type": "contour"
           }
          ],
          "contourcarpet": [
           {
            "colorbar": {
             "outlinewidth": 0,
             "ticks": ""
            },
            "type": "contourcarpet"
           }
          ],
          "heatmap": [
           {
            "colorbar": {
             "outlinewidth": 0,
             "ticks": ""
            },
            "colorscale": [
             [
              0,
              "#0d0887"
             ],
             [
              0.1111111111111111,
              "#46039f"
             ],
             [
              0.2222222222222222,
              "#7201a8"
             ],
             [
              0.3333333333333333,
              "#9c179e"
             ],
             [
              0.4444444444444444,
              "#bd3786"
             ],
             [
              0.5555555555555556,
              "#d8576b"
             ],
             [
              0.6666666666666666,
              "#ed7953"
             ],
             [
              0.7777777777777778,
              "#fb9f3a"
             ],
             [
              0.8888888888888888,
              "#fdca26"
             ],
             [
              1,
              "#f0f921"
             ]
            ],
            "type": "heatmap"
           }
          ],
          "heatmapgl": [
           {
            "colorbar": {
             "outlinewidth": 0,
             "ticks": ""
            },
            "colorscale": [
             [
              0,
              "#0d0887"
             ],
             [
              0.1111111111111111,
              "#46039f"
             ],
             [
              0.2222222222222222,
              "#7201a8"
             ],
             [
              0.3333333333333333,
              "#9c179e"
             ],
             [
              0.4444444444444444,
              "#bd3786"
             ],
             [
              0.5555555555555556,
              "#d8576b"
             ],
             [
              0.6666666666666666,
              "#ed7953"
             ],
             [
              0.7777777777777778,
              "#fb9f3a"
             ],
             [
              0.8888888888888888,
              "#fdca26"
             ],
             [
              1,
              "#f0f921"
             ]
            ],
            "type": "heatmapgl"
           }
          ],
          "histogram": [
           {
            "marker": {
             "pattern": {
              "fillmode": "overlay",
              "size": 10,
              "solidity": 0.2
             }
            },
            "type": "histogram"
           }
          ],
          "histogram2d": [
           {
            "colorbar": {
             "outlinewidth": 0,
             "ticks": ""
            },
            "colorscale": [
             [
              0,
              "#0d0887"
             ],
             [
              0.1111111111111111,
              "#46039f"
             ],
             [
              0.2222222222222222,
              "#7201a8"
             ],
             [
              0.3333333333333333,
              "#9c179e"
             ],
             [
              0.4444444444444444,
              "#bd3786"
             ],
             [
              0.5555555555555556,
              "#d8576b"
             ],
             [
              0.6666666666666666,
              "#ed7953"
             ],
             [
              0.7777777777777778,
              "#fb9f3a"
             ],
             [
              0.8888888888888888,
              "#fdca26"
             ],
             [
              1,
              "#f0f921"
             ]
            ],
            "type": "histogram2d"
           }
          ],
          "histogram2dcontour": [
           {
            "colorbar": {
             "outlinewidth": 0,
             "ticks": ""
            },
            "colorscale": [
             [
              0,
              "#0d0887"
             ],
             [
              0.1111111111111111,
              "#46039f"
             ],
             [
              0.2222222222222222,
              "#7201a8"
             ],
             [
              0.3333333333333333,
              "#9c179e"
             ],
             [
              0.4444444444444444,
              "#bd3786"
             ],
             [
              0.5555555555555556,
              "#d8576b"
             ],
             [
              0.6666666666666666,
              "#ed7953"
             ],
             [
              0.7777777777777778,
              "#fb9f3a"
             ],
             [
              0.8888888888888888,
              "#fdca26"
             ],
             [
              1,
              "#f0f921"
             ]
            ],
            "type": "histogram2dcontour"
           }
          ],
          "mesh3d": [
           {
            "colorbar": {
             "outlinewidth": 0,
             "ticks": ""
            },
            "type": "mesh3d"
           }
          ],
          "parcoords": [
           {
            "line": {
             "colorbar": {
              "outlinewidth": 0,
              "ticks": ""
             }
            },
            "type": "parcoords"
           }
          ],
          "pie": [
           {
            "automargin": true,
            "type": "pie"
           }
          ],
          "scatter": [
           {
            "marker": {
             "line": {
              "color": "#283442"
             }
            },
            "type": "scatter"
           }
          ],
          "scatter3d": [
           {
            "line": {
             "colorbar": {
              "outlinewidth": 0,
              "ticks": ""
             }
            },
            "marker": {
             "colorbar": {
              "outlinewidth": 0,
              "ticks": ""
             }
            },
            "type": "scatter3d"
           }
          ],
          "scattercarpet": [
           {
            "marker": {
             "colorbar": {
              "outlinewidth": 0,
              "ticks": ""
             }
            },
            "type": "scattercarpet"
           }
          ],
          "scattergeo": [
           {
            "marker": {
             "colorbar": {
              "outlinewidth": 0,
              "ticks": ""
             }
            },
            "type": "scattergeo"
           }
          ],
          "scattergl": [
           {
            "marker": {
             "line": {
              "color": "#283442"
             }
            },
            "type": "scattergl"
           }
          ],
          "scattermapbox": [
           {
            "marker": {
             "colorbar": {
              "outlinewidth": 0,
              "ticks": ""
             }
            },
            "type": "scattermapbox"
           }
          ],
          "scatterpolar": [
           {
            "marker": {
             "colorbar": {
              "outlinewidth": 0,
              "ticks": ""
             }
            },
            "type": "scatterpolar"
           }
          ],
          "scatterpolargl": [
           {
            "marker": {
             "colorbar": {
              "outlinewidth": 0,
              "ticks": ""
             }
            },
            "type": "scatterpolargl"
           }
          ],
          "scatterternary": [
           {
            "marker": {
             "colorbar": {
              "outlinewidth": 0,
              "ticks": ""
             }
            },
            "type": "scatterternary"
           }
          ],
          "surface": [
           {
            "colorbar": {
             "outlinewidth": 0,
             "ticks": ""
            },
            "colorscale": [
             [
              0,
              "#0d0887"
             ],
             [
              0.1111111111111111,
              "#46039f"
             ],
             [
              0.2222222222222222,
              "#7201a8"
             ],
             [
              0.3333333333333333,
              "#9c179e"
             ],
             [
              0.4444444444444444,
              "#bd3786"
             ],
             [
              0.5555555555555556,
              "#d8576b"
             ],
             [
              0.6666666666666666,
              "#ed7953"
             ],
             [
              0.7777777777777778,
              "#fb9f3a"
             ],
             [
              0.8888888888888888,
              "#fdca26"
             ],
             [
              1,
              "#f0f921"
             ]
            ],
            "type": "surface"
           }
          ],
          "table": [
           {
            "cells": {
             "fill": {
              "color": "#506784"
             },
             "line": {
              "color": "rgb(17,17,17)"
             }
            },
            "header": {
             "fill": {
              "color": "#2a3f5f"
             },
             "line": {
              "color": "rgb(17,17,17)"
             }
            },
            "type": "table"
           }
          ]
         },
         "layout": {
          "annotationdefaults": {
           "arrowcolor": "#f2f5fa",
           "arrowhead": 0,
           "arrowwidth": 1
          },
          "autotypenumbers": "strict",
          "coloraxis": {
           "colorbar": {
            "outlinewidth": 0,
            "ticks": ""
           }
          },
          "colorscale": {
           "diverging": [
            [
             0,
             "#8e0152"
            ],
            [
             0.1,
             "#c51b7d"
            ],
            [
             0.2,
             "#de77ae"
            ],
            [
             0.3,
             "#f1b6da"
            ],
            [
             0.4,
             "#fde0ef"
            ],
            [
             0.5,
             "#f7f7f7"
            ],
            [
             0.6,
             "#e6f5d0"
            ],
            [
             0.7,
             "#b8e186"
            ],
            [
             0.8,
             "#7fbc41"
            ],
            [
             0.9,
             "#4d9221"
            ],
            [
             1,
             "#276419"
            ]
           ],
           "sequential": [
            [
             0,
             "#0d0887"
            ],
            [
             0.1111111111111111,
             "#46039f"
            ],
            [
             0.2222222222222222,
             "#7201a8"
            ],
            [
             0.3333333333333333,
             "#9c179e"
            ],
            [
             0.4444444444444444,
             "#bd3786"
            ],
            [
             0.5555555555555556,
             "#d8576b"
            ],
            [
             0.6666666666666666,
             "#ed7953"
            ],
            [
             0.7777777777777778,
             "#fb9f3a"
            ],
            [
             0.8888888888888888,
             "#fdca26"
            ],
            [
             1,
             "#f0f921"
            ]
           ],
           "sequentialminus": [
            [
             0,
             "#0d0887"
            ],
            [
             0.1111111111111111,
             "#46039f"
            ],
            [
             0.2222222222222222,
             "#7201a8"
            ],
            [
             0.3333333333333333,
             "#9c179e"
            ],
            [
             0.4444444444444444,
             "#bd3786"
            ],
            [
             0.5555555555555556,
             "#d8576b"
            ],
            [
             0.6666666666666666,
             "#ed7953"
            ],
            [
             0.7777777777777778,
             "#fb9f3a"
            ],
            [
             0.8888888888888888,
             "#fdca26"
            ],
            [
             1,
             "#f0f921"
            ]
           ]
          },
          "colorway": [
           "#636efa",
           "#EF553B",
           "#00cc96",
           "#ab63fa",
           "#FFA15A",
           "#19d3f3",
           "#FF6692",
           "#B6E880",
           "#FF97FF",
           "#FECB52"
          ],
          "font": {
           "color": "#f2f5fa"
          },
          "geo": {
           "bgcolor": "rgb(17,17,17)",
           "lakecolor": "rgb(17,17,17)",
           "landcolor": "rgb(17,17,17)",
           "showlakes": true,
           "showland": true,
           "subunitcolor": "#506784"
          },
          "hoverlabel": {
           "align": "left"
          },
          "hovermode": "closest",
          "mapbox": {
           "style": "dark"
          },
          "paper_bgcolor": "rgb(17,17,17)",
          "plot_bgcolor": "rgb(17,17,17)",
          "polar": {
           "angularaxis": {
            "gridcolor": "#506784",
            "linecolor": "#506784",
            "ticks": ""
           },
           "bgcolor": "rgb(17,17,17)",
           "radialaxis": {
            "gridcolor": "#506784",
            "linecolor": "#506784",
            "ticks": ""
           }
          },
          "scene": {
           "xaxis": {
            "backgroundcolor": "rgb(17,17,17)",
            "gridcolor": "#506784",
            "gridwidth": 2,
            "linecolor": "#506784",
            "showbackground": true,
            "ticks": "",
            "zerolinecolor": "#C8D4E3"
           },
           "yaxis": {
            "backgroundcolor": "rgb(17,17,17)",
            "gridcolor": "#506784",
            "gridwidth": 2,
            "linecolor": "#506784",
            "showbackground": true,
            "ticks": "",
            "zerolinecolor": "#C8D4E3"
           },
           "zaxis": {
            "backgroundcolor": "rgb(17,17,17)",
            "gridcolor": "#506784",
            "gridwidth": 2,
            "linecolor": "#506784",
            "showbackground": true,
            "ticks": "",
            "zerolinecolor": "#C8D4E3"
           }
          },
          "shapedefaults": {
           "line": {
            "color": "#f2f5fa"
           }
          },
          "sliderdefaults": {
           "bgcolor": "#C8D4E3",
           "bordercolor": "rgb(17,17,17)",
           "borderwidth": 1,
           "tickwidth": 0
          },
          "ternary": {
           "aaxis": {
            "gridcolor": "#506784",
            "linecolor": "#506784",
            "ticks": ""
           },
           "baxis": {
            "gridcolor": "#506784",
            "linecolor": "#506784",
            "ticks": ""
           },
           "bgcolor": "rgb(17,17,17)",
           "caxis": {
            "gridcolor": "#506784",
            "linecolor": "#506784",
            "ticks": ""
           }
          },
          "title": {
           "x": 0.05
          },
          "updatemenudefaults": {
           "bgcolor": "#506784",
           "borderwidth": 0
          },
          "xaxis": {
           "automargin": true,
           "gridcolor": "#283442",
           "linecolor": "#506784",
           "ticks": "",
           "title": {
            "standoff": 15
           },
           "zerolinecolor": "#283442",
           "zerolinewidth": 2
          },
          "yaxis": {
           "automargin": true,
           "gridcolor": "#283442",
           "linecolor": "#506784",
           "ticks": "",
           "title": {
            "standoff": 15
           },
           "zerolinecolor": "#283442",
           "zerolinewidth": 2
          }
         }
        }
       }
      }
     },
     "metadata": {},
     "output_type": "display_data"
    }
   ],
   "source": [
    "# Membuat Radar Chart\n",
    "fig = go.Figure()\n",
    "angles = list(dat[song_features_normalized].columns)\n",
    "angles.append(angles[0])\n",
    "layoutdict = dict(\n",
    "            radialaxis=dict(\n",
    "            visible=True,\n",
    "            range=[0, 1]\n",
    "            ))\n",
    "\n",
    "names = [element.upper() for element in names]\n",
    "dat['name'] = dat['name'].str.upper()\n",
    "dat.to_csv('../data/Raw/comparison_data.csv', index=False)\n",
    "\n",
    "\n",
    "for i in range(len(names)):\n",
    "    subset = dat[dat['name'] == names[i]]\n",
    "    data = [np.mean(subset[col]) for col in subset[song_features_normalized].columns]\n",
    "    data.append(data[0])\n",
    "    fig.add_trace(go.Scatterpolar(\n",
    "        r=data,\n",
    "        theta=angles,\n",
    "        fill='toself',\n",
    "        name=names[i]))\n",
    "\n",
    "        \n",
    "fig.update_layout(\n",
    "        polar=layoutdict,\n",
    "        showlegend=True,template='plotly_dark'\n",
    "        )\n",
    "fig.show()"
   ]
  },
  {
   "cell_type": "code",
   "execution_count": null,
   "metadata": {},
   "outputs": [],
   "source": []
  }
 ],
 "metadata": {
  "kernelspec": {
   "display_name": "Python 3",
   "language": "python",
   "name": "python3"
  },
  "language_info": {
   "codemirror_mode": {
    "name": "ipython",
    "version": 3
   },
   "file_extension": ".py",
   "mimetype": "text/x-python",
   "name": "python",
   "nbconvert_exporter": "python",
   "pygments_lexer": "ipython3",
   "version": "3.11.1"
  }
 },
 "nbformat": 4,
 "nbformat_minor": 2
}
